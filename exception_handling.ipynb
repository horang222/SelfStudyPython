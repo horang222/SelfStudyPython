{
 "cells": [
  {
   "attachments": {},
   "cell_type": "markdown",
   "metadata": {},
   "source": [
    "try:   \n",
    "        수행문장 <-- 에러가 발생할 가능성이 있는 문장   \n",
    "except:   \n",
    "        에러 발생시 수행 문장 <-- 에러 상황이 발생했을 때만 수행할 문장   \n",
    "else:   \n",
    "        정상 동작시 수행 문장 <-- 에러가 발생하지 않았을 때만 수행할 문장   \n",
    "finally:   \n",
    "        마지막으로 수행할 문장 <-- 에러 여부 상관없이 항상 수행되는 문장   "
   ]
  },
  {
   "cell_type": "code",
   "execution_count": 1,
   "metadata": {},
   "outputs": [],
   "source": [
    "def nanugi1(num1, num2):\n",
    "    try:\n",
    "        result = num1 / num2\n",
    "        print(f'연산 결과는 {result}입니다.')\n",
    "    except:\n",
    "        print('에러가 발생했어요.')\n",
    "    else:\n",
    "        print('정상 동작했어요.')\n",
    "    finally:\n",
    "        print('수행 종료')"
   ]
  },
  {
   "cell_type": "code",
   "execution_count": 2,
   "metadata": {},
   "outputs": [
    {
     "name": "stdout",
     "output_type": "stream",
     "text": [
      "연산 결과는 1.0입니다.\n",
      "정상 동작했어요.\n",
      "수행 종료\n"
     ]
    }
   ],
   "source": [
    "nanugi1(3,3)"
   ]
  },
  {
   "cell_type": "code",
   "execution_count": 3,
   "metadata": {},
   "outputs": [
    {
     "name": "stdout",
     "output_type": "stream",
     "text": [
      "에러가 발생했어요.\n",
      "수행 종료\n"
     ]
    }
   ],
   "source": [
    "nanugi1(3,0)"
   ]
  },
  {
   "cell_type": "code",
   "execution_count": 4,
   "metadata": {},
   "outputs": [],
   "source": [
    "def nanugi2(num1, num2):\n",
    "    try:\n",
    "        result = num1 / num2\n",
    "        print(f'연산 결과는 {result}입니다.')\n",
    "    except Exception as err:\n",
    "        print('에러가 발생했어요.', err)"
   ]
  },
  {
   "cell_type": "code",
   "execution_count": 5,
   "metadata": {},
   "outputs": [
    {
     "name": "stdout",
     "output_type": "stream",
     "text": [
      "에러가 발생했어요. division by zero\n"
     ]
    }
   ],
   "source": [
    "nanugi2(3,0)"
   ]
  },
  {
   "cell_type": "code",
   "execution_count": 6,
   "metadata": {},
   "outputs": [],
   "source": [
    "# 에러의 종류에 따라 서로 다른 처리를 해주고 싶은 경우\n",
    "\n",
    "def nanugi3(num1, num2):\n",
    "    try:\n",
    "        result = num1 / num2\n",
    "        print(f'연산 결과는 {result}입니다.')\n",
    "    except ZeroDivisionError:\n",
    "        print('0으로 나눌 수 없어요')\n",
    "    except Exception as err: # 위에 걸리지 않는 에러는 최종적으로 포관적인 Exception을 통해 잡을 수 있음\n",
    "        print('에러가 발생했어요.', err)"
   ]
  },
  {
   "cell_type": "code",
   "execution_count": 7,
   "metadata": {},
   "outputs": [
    {
     "name": "stdout",
     "output_type": "stream",
     "text": [
      "0으로 나눌 수 없어요\n"
     ]
    }
   ],
   "source": [
    "nanugi3(3, 0)"
   ]
  },
  {
   "cell_type": "code",
   "execution_count": 8,
   "metadata": {},
   "outputs": [],
   "source": [
    "# 에러의 종류에 따라 서로 다른 처리를 해주고 싶은 경우\n",
    "\n",
    "def nanugi4(num1, num2):\n",
    "    try:\n",
    "        result = num1 / num2\n",
    "        print(f'연산 결과는 {result}입니다.')\n",
    "    except ZeroDivisionError:\n",
    "        print('0으로 나눌 수 없어요')\n",
    "    except TypeError:\n",
    "        print('값의 형태가 이상해요')\n",
    "    except Exception as err: # 위에 걸리지 않는 에러는 최종적으로 포관적인 Exception을 통해 잡을 수 있음\n",
    "        print('에러가 발생했어요.', err)"
   ]
  },
  {
   "cell_type": "code",
   "execution_count": 9,
   "metadata": {},
   "outputs": [
    {
     "name": "stdout",
     "output_type": "stream",
     "text": [
      "값의 형태가 이상해요\n"
     ]
    }
   ],
   "source": [
    "nanugi4(3, str(4))"
   ]
  },
  {
   "attachments": {},
   "cell_type": "markdown",
   "metadata": {},
   "source": [
    "### 구글에 'python Exceptions'라고 검색하면 다양한 에러의 종류와 설명을 확인할 수 있음."
   ]
  },
  {
   "cell_type": "code",
   "execution_count": null,
   "metadata": {},
   "outputs": [],
   "source": []
  }
 ],
 "metadata": {
  "kernelspec": {
   "display_name": "Python 3",
   "language": "python",
   "name": "python3"
  },
  "language_info": {
   "codemirror_mode": {
    "name": "ipython",
    "version": 3
   },
   "file_extension": ".py",
   "mimetype": "text/x-python",
   "name": "python",
   "nbconvert_exporter": "python",
   "pygments_lexer": "ipython3",
   "version": "3.11.0"
  },
  "orig_nbformat": 4
 },
 "nbformat": 4,
 "nbformat_minor": 2
}
