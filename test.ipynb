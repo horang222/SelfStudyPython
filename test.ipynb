{
 "cells": [
  {
   "cell_type": "code",
   "execution_count": 1,
   "metadata": {},
   "outputs": [],
   "source": [
    "from selenium import webdriver\n",
    "from selenium.webdriver.chrome.service import Service\n",
    "from selenium.webdriver.chrome.options import Options\n",
    "from selenium.webdriver.common.by import By\n",
    "from bs4 import BeautifulSoup as bs\n",
    "import requests\n",
    "import time\n",
    "\n",
    "# 크롬 드라이버 자동 업데이트\n",
    "from webdriver_manager.chrome import ChromeDriverManager # webdriver_manager 처음 실행할 때는 다운받느라 조금 시간이 걸릴 수 있음\n",
    "\n",
    "# 브라우저 꺼짐 방지\n",
    "options = Options()\n",
    "options.add_experimental_option('detach', True)\n",
    "\n",
    "# 불필요한 에러 메시지 없애기\n",
    "options.add_experimental_option('excludeSwitches', ['enable-logging'])\n",
    "\n",
    "service = Service(executable_path=ChromeDriverManager().install())"
   ]
  },
  {
   "cell_type": "code",
   "execution_count": 13,
   "metadata": {},
   "outputs": [],
   "source": [
    "driver = webdriver.Chrome(service=service, options=options)\n",
    "driver.maximize_window()\n",
    "# 웹페이지 해당 주소로 이동\n",
    "driver.get('https://poong.today/')\n",
    "\n",
    "keyword = input()\n",
    "# driver.find_element(By.CSS_SELECTOR, '#main_chart_controler > div:nth-child(1) > div.chart-filter-searchbox-btn.query').click()\n",
    "driver.find_element(By.CSS_SELECTOR, '#main_chart_controler > div.chart-filter-searchbox > input').send_keys(keyword)\n",
    "#main_chart_controler > div.chart-filter-searchbox > input\n",
    "html = driver.page_source"
   ]
  },
  {
   "cell_type": "code",
   "execution_count": 22,
   "metadata": {},
   "outputs": [],
   "source": [
    "soup = bs(html, 'html.parser')\n",
    "\n",
    "profile = soup.find('div', attrs={'class':'profile'})\n",
    "\n",
    "# rank = body.find('div', attrs={'id':'rank'}).text.strip()\n",
    "# name = body.find('div', attrs={'id':'nick'}).text[:-1]\n",
    "\n",
    "# poong_data = body.find_all('div', attrs={'class':'num'})\n",
    "# poong_today = int(poong_data[0].text.replace(',',''))\n",
    "# poong_month = int(poong_data[2].text.replace(',',''))\n",
    "\n",
    "# print(f'검색한 BJ {name}의 전체 별풍 순위는 {rank}위이고, 오늘의 풍력: {poong_today}개, 이번 달 풍력: {poong_month}개입니다.')"
   ]
  },
  {
   "cell_type": "code",
   "execution_count": 23,
   "metadata": {},
   "outputs": [
    {
     "name": "stdout",
     "output_type": "stream",
     "text": [
      "None\n"
     ]
    }
   ],
   "source": [
    "print(profile)"
   ]
  },
  {
   "cell_type": "code",
   "execution_count": null,
   "metadata": {},
   "outputs": [],
   "source": []
  }
 ],
 "metadata": {
  "kernelspec": {
   "display_name": "Python 3",
   "language": "python",
   "name": "python3"
  },
  "language_info": {
   "codemirror_mode": {
    "name": "ipython",
    "version": 3
   },
   "file_extension": ".py",
   "mimetype": "text/x-python",
   "name": "python",
   "nbconvert_exporter": "python",
   "pygments_lexer": "ipython3",
   "version": "3.11.0"
  },
  "orig_nbformat": 4
 },
 "nbformat": 4,
 "nbformat_minor": 2
}
