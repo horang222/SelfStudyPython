{
 "cells": [
  {
   "cell_type": "code",
   "execution_count": 5,
   "metadata": {},
   "outputs": [],
   "source": [
    "# 'w': 쓰기 모드로 파일 열기\n",
    "\n",
    "f = open('./list.txt', 'w', encoding='utf8') \n",
    "\n",
    "f.write('김민철\\n') # 문장 입력하기\n",
    "f.write('정성환\\n') # 문장 입력하기\n",
    "f.write('허성범\\n') # 문장 입력하기\n",
    "\n",
    "f.close() # 파일 닫기"
   ]
  },
  {
   "cell_type": "code",
   "execution_count": 8,
   "metadata": {},
   "outputs": [
    {
     "name": "stdout",
     "output_type": "stream",
     "text": [
      "김민철\n",
      "정성환\n",
      "허성범\n",
      "\n"
     ]
    }
   ],
   "source": [
    "# 'r': 읽기 모드로 파일 열기\n",
    "\n",
    "f = open('./list.txt', 'r', encoding='utf8')\n",
    "\n",
    "contents = f.read() # 파일 내용 다 읽어오기\n",
    "f.close()\n",
    "print(contents)"
   ]
  },
  {
   "cell_type": "code",
   "execution_count": 9,
   "metadata": {},
   "outputs": [
    {
     "name": "stdout",
     "output_type": "stream",
     "text": [
      "김민철\n",
      "정성환\n",
      "허성범\n"
     ]
    }
   ],
   "source": [
    "# 한 줄씩 읽기\n",
    "\n",
    "f = open('./list.txt', 'r', encoding='utf8')\n",
    "for line in f:\n",
    "    print(line, end='')\n",
    "f.close()"
   ]
  },
  {
   "cell_type": "code",
   "execution_count": 10,
   "metadata": {},
   "outputs": [
    {
     "data": {
      "text/plain": [
       "_io.TextIOWrapper"
      ]
     },
     "execution_count": 10,
     "metadata": {},
     "output_type": "execute_result"
    }
   ],
   "source": [
    "type(f)"
   ]
  },
  {
   "attachments": {},
   "cell_type": "markdown",
   "metadata": {},
   "source": [
    "### with\n",
    ": 블럭 벗어나면 자동으로 파일을 닫음. close() 함수를 따로 불러올 필요가 없음"
   ]
  },
  {
   "cell_type": "code",
   "execution_count": 11,
   "metadata": {},
   "outputs": [],
   "source": [
    "with open('./list.txt', 'w', encoding='utf8') as f:\n",
    "    f.write('김민철부지\\n') # 문장 입력하기\n",
    "    f.write('정성환공포증\\n') # 문장 입력하기\n",
    "    f.write('허성범내려온다\\n') # 문장 입력하기"
   ]
  },
  {
   "cell_type": "code",
   "execution_count": 12,
   "metadata": {},
   "outputs": [
    {
     "name": "stdout",
     "output_type": "stream",
     "text": [
      "김민철부지\n",
      "정성환공포증\n",
      "허성범내려온다\n",
      "\n"
     ]
    }
   ],
   "source": [
    "# 파일 읽기\n",
    "\n",
    "with open('./list.txt', 'r', encoding='utf8') as f:\n",
    "    contents = f.read()\n",
    "    print(contents)"
   ]
  },
  {
   "cell_type": "code",
   "execution_count": null,
   "metadata": {},
   "outputs": [],
   "source": []
  }
 ],
 "metadata": {
  "kernelspec": {
   "display_name": "Python 3",
   "language": "python",
   "name": "python3"
  },
  "language_info": {
   "codemirror_mode": {
    "name": "ipython",
    "version": 3
   },
   "file_extension": ".py",
   "mimetype": "text/x-python",
   "name": "python",
   "nbconvert_exporter": "python",
   "pygments_lexer": "ipython3",
   "version": "3.11.0"
  },
  "orig_nbformat": 4
 },
 "nbformat": 4,
 "nbformat_minor": 2
}
